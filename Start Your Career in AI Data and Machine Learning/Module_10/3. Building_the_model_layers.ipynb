{
  "nbformat": 4,
  "nbformat_minor": 0,
  "metadata": {
    "colab": {
      "provenance": [],
      "authorship_tag": "ABX9TyNzQVOfXOr+A38hVYSHpOHv",
      "include_colab_link": true
    },
    "kernelspec": {
      "name": "python3",
      "display_name": "Python 3"
    },
    "language_info": {
      "name": "python"
    }
  },
  "cells": [
    {
      "cell_type": "markdown",
      "metadata": {
        "id": "view-in-github",
        "colab_type": "text"
      },
      "source": [
        "<a href=\"https://colab.research.google.com/github/Praneesh-Sharma/Azure-Start_Your_Career_in_AI_Data_and_Machine_Learning/blob/main/Module_10/Building_the_model_layers.ipynb\" target=\"_parent\"><img src=\"https://colab.research.google.com/assets/colab-badge.svg\" alt=\"Open In Colab\"/></a>"
      ]
    },
    {
      "cell_type": "code",
      "execution_count": 1,
      "metadata": {
        "id": "kv_xeL1c155O"
      },
      "outputs": [],
      "source": [
        "%matplotlib inline\n",
        "import os\n",
        "import torch\n",
        "from torch import nn\n",
        "from torch.utils.data import DataLoader\n",
        "from torchvision import datasets, transforms"
      ]
    },
    {
      "cell_type": "code",
      "source": [
        "device = 'cuda' if torch.cuda.is_available() else 'cpu'\n",
        "print('Using {} device'.format(device))"
      ],
      "metadata": {
        "colab": {
          "base_uri": "https://localhost:8080/"
        },
        "id": "hbUDhqcb18Wn",
        "outputId": "5d317818-d2c3-4a48-f71b-62b1b97a3a6f"
      },
      "execution_count": 2,
      "outputs": [
        {
          "output_type": "stream",
          "name": "stdout",
          "text": [
            "Using cpu device\n"
          ]
        }
      ]
    },
    {
      "cell_type": "code",
      "source": [
        "class NeuralNetwork(nn.Module):\n",
        "    def __init__(self):\n",
        "        super(NeuralNetwork, self).__init__()\n",
        "        self.flatten = nn.Flatten()\n",
        "        self.linear_relu_stack = nn.Sequential(\n",
        "            nn.Linear(28*28, 512),\n",
        "            nn.ReLU(),\n",
        "            nn.Linear(512, 512),\n",
        "            nn.ReLU(),\n",
        "            nn.Linear(512, 10),\n",
        "            nn.ReLU()\n",
        "        )\n",
        "\n",
        "    def forward(self, x):\n",
        "        x = self.flatten(x)\n",
        "        logits = self.linear_relu_stack(x)\n",
        "        return logits"
      ],
      "metadata": {
        "id": "Py4ZRGcD19Ps"
      },
      "execution_count": 3,
      "outputs": []
    },
    {
      "cell_type": "code",
      "source": [
        "model = NeuralNetwork().to(device)\n",
        "print(model)"
      ],
      "metadata": {
        "colab": {
          "base_uri": "https://localhost:8080/"
        },
        "id": "6h0HRDdd199p",
        "outputId": "77bb1f14-52f9-47c5-8b2a-706014417024"
      },
      "execution_count": 4,
      "outputs": [
        {
          "output_type": "stream",
          "name": "stdout",
          "text": [
            "NeuralNetwork(\n",
            "  (flatten): Flatten(start_dim=1, end_dim=-1)\n",
            "  (linear_relu_stack): Sequential(\n",
            "    (0): Linear(in_features=784, out_features=512, bias=True)\n",
            "    (1): ReLU()\n",
            "    (2): Linear(in_features=512, out_features=512, bias=True)\n",
            "    (3): ReLU()\n",
            "    (4): Linear(in_features=512, out_features=10, bias=True)\n",
            "    (5): ReLU()\n",
            "  )\n",
            ")\n"
          ]
        }
      ]
    },
    {
      "cell_type": "code",
      "source": [
        "X = torch.rand(1, 28, 28, device=device)\n",
        "logits = model(X) \n",
        "pred_probab = nn.Softmax(dim=1)(logits)\n",
        "y_pred = pred_probab.argmax(1)\n",
        "print(f\"Predicted class: {y_pred}\")"
      ],
      "metadata": {
        "colab": {
          "base_uri": "https://localhost:8080/"
        },
        "id": "7Tjvy0Rq1-6a",
        "outputId": "2eeacde3-e82d-42e2-b431-62522a5117f7"
      },
      "execution_count": 5,
      "outputs": [
        {
          "output_type": "stream",
          "name": "stdout",
          "text": [
            "Predicted class: tensor([6])\n"
          ]
        }
      ]
    },
    {
      "cell_type": "code",
      "source": [
        "print(f\"First Linear weights: {model.linear_relu_stack[0].weight} \\n\")\n",
        "\n",
        "print(f\"First Linear weights: {model.linear_relu_stack[0].bias} \\n\")"
      ],
      "metadata": {
        "colab": {
          "base_uri": "https://localhost:8080/"
        },
        "id": "zj2CdU8n1_mK",
        "outputId": "8cc8aaf8-6c8d-456b-cc64-d9c9a377f87d"
      },
      "execution_count": 6,
      "outputs": [
        {
          "output_type": "stream",
          "name": "stdout",
          "text": [
            "First Linear weights: Parameter containing:\n",
            "tensor([[-0.0144,  0.0166, -0.0280,  ..., -0.0109, -0.0303,  0.0200],\n",
            "        [ 0.0125, -0.0082, -0.0306,  ..., -0.0310,  0.0192, -0.0263],\n",
            "        [-0.0190, -0.0069, -0.0154,  ...,  0.0280,  0.0046, -0.0260],\n",
            "        ...,\n",
            "        [ 0.0164, -0.0112, -0.0292,  ..., -0.0269, -0.0051, -0.0276],\n",
            "        [-0.0038,  0.0340,  0.0274,  ...,  0.0208, -0.0246, -0.0055],\n",
            "        [-0.0166,  0.0119, -0.0235,  ...,  0.0145,  0.0119, -0.0343]],\n",
            "       requires_grad=True) \n",
            "\n",
            "First Linear weights: Parameter containing:\n",
            "tensor([-0.0050, -0.0206,  0.0249,  0.0006, -0.0304,  0.0271,  0.0009, -0.0203,\n",
            "         0.0211,  0.0198,  0.0256, -0.0246,  0.0318, -0.0050, -0.0296, -0.0304,\n",
            "         0.0176,  0.0139,  0.0222, -0.0240,  0.0085, -0.0190, -0.0139,  0.0079,\n",
            "        -0.0323,  0.0070,  0.0117, -0.0177, -0.0152,  0.0322, -0.0222, -0.0128,\n",
            "        -0.0130,  0.0210,  0.0185, -0.0065, -0.0196, -0.0054,  0.0061,  0.0231,\n",
            "         0.0310, -0.0240, -0.0331,  0.0194, -0.0154,  0.0299,  0.0158,  0.0052,\n",
            "        -0.0106, -0.0110, -0.0072,  0.0034,  0.0026,  0.0191,  0.0040, -0.0269,\n",
            "         0.0114,  0.0107,  0.0155, -0.0255,  0.0098,  0.0234, -0.0257, -0.0191,\n",
            "         0.0059, -0.0115,  0.0105,  0.0350,  0.0197,  0.0282, -0.0166, -0.0267,\n",
            "         0.0279, -0.0330,  0.0192,  0.0244,  0.0212,  0.0143, -0.0275,  0.0062,\n",
            "        -0.0211, -0.0083,  0.0121, -0.0179,  0.0071, -0.0122,  0.0092, -0.0350,\n",
            "        -0.0282, -0.0265, -0.0119, -0.0024, -0.0215,  0.0038,  0.0301, -0.0332,\n",
            "        -0.0163,  0.0293,  0.0182, -0.0279,  0.0290,  0.0260, -0.0331,  0.0303,\n",
            "         0.0085,  0.0198,  0.0318,  0.0256, -0.0068,  0.0041, -0.0138, -0.0074,\n",
            "        -0.0155,  0.0329, -0.0011,  0.0336,  0.0183, -0.0154,  0.0288, -0.0051,\n",
            "        -0.0335, -0.0254,  0.0111, -0.0310,  0.0256, -0.0148, -0.0290,  0.0197,\n",
            "        -0.0266, -0.0101,  0.0186,  0.0179,  0.0328,  0.0219, -0.0348,  0.0247,\n",
            "         0.0225,  0.0230,  0.0351, -0.0350, -0.0035, -0.0292, -0.0159, -0.0234,\n",
            "         0.0261, -0.0083, -0.0329,  0.0061, -0.0236,  0.0158,  0.0192,  0.0066,\n",
            "         0.0263,  0.0242,  0.0196, -0.0188,  0.0250, -0.0336, -0.0162,  0.0175,\n",
            "         0.0175, -0.0084,  0.0190,  0.0276,  0.0186,  0.0088,  0.0016,  0.0024,\n",
            "         0.0240,  0.0208, -0.0352, -0.0141, -0.0077, -0.0294,  0.0072, -0.0203,\n",
            "        -0.0140, -0.0052,  0.0326,  0.0084,  0.0017, -0.0138,  0.0227,  0.0117,\n",
            "        -0.0030, -0.0339, -0.0273, -0.0071, -0.0204, -0.0211,  0.0160,  0.0083,\n",
            "        -0.0157, -0.0038, -0.0258,  0.0166, -0.0046,  0.0308,  0.0279, -0.0165,\n",
            "         0.0351,  0.0137,  0.0056, -0.0222, -0.0140,  0.0330,  0.0026, -0.0333,\n",
            "         0.0245, -0.0266,  0.0204, -0.0011, -0.0323,  0.0311,  0.0132,  0.0005,\n",
            "         0.0284,  0.0069,  0.0051,  0.0127,  0.0072,  0.0108,  0.0297,  0.0102,\n",
            "        -0.0038,  0.0083, -0.0184,  0.0101, -0.0299,  0.0319, -0.0239,  0.0036,\n",
            "        -0.0234,  0.0287,  0.0113, -0.0017,  0.0294, -0.0037,  0.0136, -0.0095,\n",
            "        -0.0088, -0.0349,  0.0260, -0.0056,  0.0111, -0.0080,  0.0288, -0.0152,\n",
            "         0.0171, -0.0330, -0.0154, -0.0111,  0.0071,  0.0123, -0.0329,  0.0209,\n",
            "        -0.0053,  0.0302, -0.0350,  0.0107,  0.0090,  0.0007,  0.0224,  0.0315,\n",
            "         0.0204,  0.0172, -0.0055, -0.0341, -0.0333, -0.0173, -0.0085,  0.0092,\n",
            "        -0.0121,  0.0018,  0.0180,  0.0221, -0.0076, -0.0185,  0.0116, -0.0206,\n",
            "        -0.0053,  0.0355,  0.0157, -0.0022,  0.0020, -0.0162,  0.0027,  0.0052,\n",
            "         0.0345,  0.0157, -0.0240,  0.0320,  0.0218, -0.0092, -0.0064,  0.0269,\n",
            "         0.0015,  0.0139, -0.0191,  0.0135,  0.0044, -0.0214,  0.0249,  0.0076,\n",
            "        -0.0014,  0.0029,  0.0078,  0.0028,  0.0156, -0.0289, -0.0098,  0.0177,\n",
            "        -0.0237, -0.0288, -0.0027,  0.0054, -0.0157,  0.0326, -0.0086, -0.0276,\n",
            "         0.0284, -0.0288,  0.0171,  0.0239, -0.0168,  0.0198,  0.0027, -0.0195,\n",
            "         0.0126, -0.0126, -0.0167, -0.0355, -0.0169,  0.0091, -0.0205, -0.0356,\n",
            "         0.0015,  0.0183,  0.0275,  0.0117,  0.0040, -0.0053, -0.0111, -0.0178,\n",
            "         0.0072, -0.0175,  0.0095,  0.0333, -0.0286,  0.0070,  0.0319, -0.0245,\n",
            "        -0.0076,  0.0336,  0.0316,  0.0345, -0.0180,  0.0209, -0.0342,  0.0146,\n",
            "         0.0146, -0.0139, -0.0258,  0.0317, -0.0267, -0.0184, -0.0228, -0.0050,\n",
            "         0.0117, -0.0197, -0.0141,  0.0348,  0.0161, -0.0221,  0.0292, -0.0044,\n",
            "         0.0357,  0.0132, -0.0147, -0.0068,  0.0223, -0.0337,  0.0165, -0.0290,\n",
            "         0.0004, -0.0161,  0.0353,  0.0161,  0.0152,  0.0160,  0.0340, -0.0158,\n",
            "         0.0179,  0.0015, -0.0222,  0.0002,  0.0287,  0.0328, -0.0343,  0.0029,\n",
            "        -0.0054,  0.0327,  0.0317,  0.0302,  0.0025, -0.0255,  0.0304, -0.0016,\n",
            "         0.0124, -0.0266,  0.0013,  0.0229, -0.0080,  0.0180, -0.0175,  0.0202,\n",
            "        -0.0269, -0.0342,  0.0220, -0.0126,  0.0091, -0.0040,  0.0232, -0.0158,\n",
            "        -0.0101,  0.0096, -0.0102,  0.0286,  0.0077, -0.0148, -0.0007,  0.0151,\n",
            "        -0.0122,  0.0078, -0.0291, -0.0219, -0.0356,  0.0117,  0.0257,  0.0034,\n",
            "        -0.0066, -0.0053, -0.0167,  0.0118, -0.0083,  0.0306, -0.0099, -0.0350,\n",
            "         0.0252,  0.0026, -0.0264,  0.0232,  0.0229,  0.0024, -0.0179, -0.0233,\n",
            "        -0.0109,  0.0151, -0.0345, -0.0320,  0.0254,  0.0026,  0.0348,  0.0277,\n",
            "        -0.0047, -0.0146,  0.0235,  0.0249, -0.0353,  0.0162, -0.0041,  0.0344,\n",
            "        -0.0100, -0.0115,  0.0160,  0.0048,  0.0016, -0.0096, -0.0147,  0.0182,\n",
            "        -0.0259,  0.0259,  0.0262, -0.0276, -0.0008, -0.0159, -0.0282, -0.0282,\n",
            "         0.0082, -0.0088, -0.0119,  0.0257,  0.0018, -0.0020,  0.0155,  0.0123,\n",
            "         0.0211,  0.0180,  0.0260, -0.0199,  0.0325, -0.0054,  0.0178, -0.0147,\n",
            "        -0.0174,  0.0090, -0.0143, -0.0097, -0.0166, -0.0073,  0.0085,  0.0097],\n",
            "       requires_grad=True) \n",
            "\n"
          ]
        }
      ]
    },
    {
      "cell_type": "code",
      "source": [
        "input_image = torch.rand(3,28,28)\n",
        "print(input_image.size())"
      ],
      "metadata": {
        "colab": {
          "base_uri": "https://localhost:8080/"
        },
        "id": "-slG39Ra2AWz",
        "outputId": "1ed1cea7-df18-481f-d7d8-ee95306eebfd"
      },
      "execution_count": 7,
      "outputs": [
        {
          "output_type": "stream",
          "name": "stdout",
          "text": [
            "torch.Size([3, 28, 28])\n"
          ]
        }
      ]
    },
    {
      "cell_type": "code",
      "source": [
        "flatten = nn.Flatten()\n",
        "flat_image = flatten(input_image)\n",
        "print(flat_image.size())"
      ],
      "metadata": {
        "colab": {
          "base_uri": "https://localhost:8080/"
        },
        "id": "zcMKVTtR2BI2",
        "outputId": "42a006bc-0c3d-415f-a821-d66ca6c2e90d"
      },
      "execution_count": 8,
      "outputs": [
        {
          "output_type": "stream",
          "name": "stdout",
          "text": [
            "torch.Size([3, 784])\n"
          ]
        }
      ]
    },
    {
      "cell_type": "code",
      "source": [
        "layer1 = nn.Linear(in_features=28*28, out_features=20)\n",
        "hidden1 = layer1(flat_image)\n",
        "print(hidden1.size())"
      ],
      "metadata": {
        "colab": {
          "base_uri": "https://localhost:8080/"
        },
        "id": "zqV08s2A2B_W",
        "outputId": "a4d6f4de-0754-450a-ac2c-8a0b6bff3833"
      },
      "execution_count": 9,
      "outputs": [
        {
          "output_type": "stream",
          "name": "stdout",
          "text": [
            "torch.Size([3, 20])\n"
          ]
        }
      ]
    },
    {
      "cell_type": "code",
      "source": [
        "print(f\"Before ReLU: {hidden1}\\n\\n\")\n",
        "hidden1 = nn.ReLU()(hidden1)\n",
        "print(f\"After ReLU: {hidden1}\")"
      ],
      "metadata": {
        "colab": {
          "base_uri": "https://localhost:8080/"
        },
        "id": "dRKWqP1k2CtU",
        "outputId": "456d98ca-4db8-4f30-ad6c-4f7bc9b5033c"
      },
      "execution_count": 10,
      "outputs": [
        {
          "output_type": "stream",
          "name": "stdout",
          "text": [
            "Before ReLU: tensor([[-0.2385, -0.2166,  0.1610,  0.1698,  0.5170,  0.0206,  0.4303,  0.2457,\n",
            "          0.0928, -0.4524, -0.4221,  0.1768,  0.0116, -0.1763, -0.0440,  0.0445,\n",
            "         -0.4034,  0.4955, -0.0526,  0.2707],\n",
            "        [-0.5233, -0.3362, -0.2493, -0.4210, -0.0443,  0.3342,  0.3539, -0.0990,\n",
            "          0.1672, -0.5399, -0.5356,  0.3525,  0.1263, -0.4367, -0.6937,  0.1086,\n",
            "         -0.4291,  0.2204, -0.1047,  0.4080],\n",
            "        [-0.1739, -0.3693, -0.1607,  0.1762,  0.0867,  0.2667,  0.5623,  0.2880,\n",
            "          0.2039, -0.3593, -0.5263,  0.1751, -0.0442, -0.4907, -0.2980, -0.3141,\n",
            "         -0.1979,  0.4916,  0.2338,  0.1381]], grad_fn=<AddmmBackward0>)\n",
            "\n",
            "\n",
            "After ReLU: tensor([[0.0000, 0.0000, 0.1610, 0.1698, 0.5170, 0.0206, 0.4303, 0.2457, 0.0928,\n",
            "         0.0000, 0.0000, 0.1768, 0.0116, 0.0000, 0.0000, 0.0445, 0.0000, 0.4955,\n",
            "         0.0000, 0.2707],\n",
            "        [0.0000, 0.0000, 0.0000, 0.0000, 0.0000, 0.3342, 0.3539, 0.0000, 0.1672,\n",
            "         0.0000, 0.0000, 0.3525, 0.1263, 0.0000, 0.0000, 0.1086, 0.0000, 0.2204,\n",
            "         0.0000, 0.4080],\n",
            "        [0.0000, 0.0000, 0.0000, 0.1762, 0.0867, 0.2667, 0.5623, 0.2880, 0.2039,\n",
            "         0.0000, 0.0000, 0.1751, 0.0000, 0.0000, 0.0000, 0.0000, 0.0000, 0.4916,\n",
            "         0.2338, 0.1381]], grad_fn=<ReluBackward0>)\n"
          ]
        }
      ]
    },
    {
      "cell_type": "code",
      "source": [
        "seq_modules = nn.Sequential(\n",
        "    flatten,\n",
        "    layer1,\n",
        "    nn.ReLU(),\n",
        "    nn.Linear(20, 10)\n",
        ")\n",
        "input_image = torch.rand(3,28,28)\n",
        "logits = seq_modules(input_image)"
      ],
      "metadata": {
        "id": "n7ZDv8jk2Dj0"
      },
      "execution_count": 11,
      "outputs": []
    },
    {
      "cell_type": "code",
      "source": [
        "softmax = nn.Softmax(dim=1)\n",
        "pred_probab = softmax(logits)"
      ],
      "metadata": {
        "id": "Qv6YzU6x2Eet"
      },
      "execution_count": 12,
      "outputs": []
    },
    {
      "cell_type": "code",
      "source": [
        "print(\"Model structure: \", model, \"\\n\\n\")\n",
        "\n",
        "for name, param in model.named_parameters():\n",
        "    print(f\"Layer: {name} | Size: {param.size()} | Values : {param[:2]} \\n\")"
      ],
      "metadata": {
        "colab": {
          "base_uri": "https://localhost:8080/"
        },
        "id": "BXX7TJZ52FfH",
        "outputId": "bf01afcb-b7a1-4441-fd17-5fc259a747a3"
      },
      "execution_count": 13,
      "outputs": [
        {
          "output_type": "stream",
          "name": "stdout",
          "text": [
            "Model structure:  NeuralNetwork(\n",
            "  (flatten): Flatten(start_dim=1, end_dim=-1)\n",
            "  (linear_relu_stack): Sequential(\n",
            "    (0): Linear(in_features=784, out_features=512, bias=True)\n",
            "    (1): ReLU()\n",
            "    (2): Linear(in_features=512, out_features=512, bias=True)\n",
            "    (3): ReLU()\n",
            "    (4): Linear(in_features=512, out_features=10, bias=True)\n",
            "    (5): ReLU()\n",
            "  )\n",
            ") \n",
            "\n",
            "\n",
            "Layer: linear_relu_stack.0.weight | Size: torch.Size([512, 784]) | Values : tensor([[-0.0144,  0.0166, -0.0280,  ..., -0.0109, -0.0303,  0.0200],\n",
            "        [ 0.0125, -0.0082, -0.0306,  ..., -0.0310,  0.0192, -0.0263]],\n",
            "       grad_fn=<SliceBackward0>) \n",
            "\n",
            "Layer: linear_relu_stack.0.bias | Size: torch.Size([512]) | Values : tensor([-0.0050, -0.0206], grad_fn=<SliceBackward0>) \n",
            "\n",
            "Layer: linear_relu_stack.2.weight | Size: torch.Size([512, 512]) | Values : tensor([[-0.0285, -0.0116,  0.0034,  ..., -0.0361, -0.0398,  0.0401],\n",
            "        [-0.0172, -0.0315, -0.0340,  ...,  0.0085, -0.0145, -0.0144]],\n",
            "       grad_fn=<SliceBackward0>) \n",
            "\n",
            "Layer: linear_relu_stack.2.bias | Size: torch.Size([512]) | Values : tensor([-0.0209,  0.0006], grad_fn=<SliceBackward0>) \n",
            "\n",
            "Layer: linear_relu_stack.4.weight | Size: torch.Size([10, 512]) | Values : tensor([[-0.0037,  0.0325,  0.0222,  ..., -0.0153,  0.0387, -0.0045],\n",
            "        [-0.0081,  0.0310, -0.0138,  ..., -0.0054,  0.0063,  0.0424]],\n",
            "       grad_fn=<SliceBackward0>) \n",
            "\n",
            "Layer: linear_relu_stack.4.bias | Size: torch.Size([10]) | Values : tensor([-0.0355, -0.0181], grad_fn=<SliceBackward0>) \n",
            "\n"
          ]
        }
      ]
    },
    {
      "cell_type": "code",
      "source": [],
      "metadata": {
        "id": "P2IUJZPN2GfP"
      },
      "execution_count": null,
      "outputs": []
    }
  ]
}
